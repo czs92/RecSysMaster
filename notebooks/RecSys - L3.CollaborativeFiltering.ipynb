{
 "cells": [
  {
   "cell_type": "markdown",
   "metadata": {},
   "source": [
    "# Lesson 2: Collaborative-based recommender systems: User-Based\n",
    "\n",
    "Given an \"active user\" (Santi) and an item that has not been seen by the user, the goal is to estimate the rating for the item.\n",
    "<table style=\"width:60%\">\n",
    "  <tr>\n",
    "    <td></td>\n",
    "    <td>Superman</td> \n",
    "    <td>Star Wars 1</td>\n",
    "    <td>Matrix</td>\n",
    "    <td>Spiderman</td>\n",
    "    \n",
    "  </tr>\n",
    "  <tr>\n",
    "    <td>Santi</td>\n",
    "    <td>3</td> \n",
    "    <td>3.5</td>\n",
    "    <td>4.5</td>\n",
    "    <td><font color=\"red\"><b>¿?</b></font></td>\n",
    "  </tr>\n",
    "  <tr>\n",
    "    <td>User1</td>\n",
    "    <td>3.5</td> \n",
    "    <td>4</td>\n",
    "    <td>5</td>\n",
    "    <td>5</td>\n",
    "  </tr>\n",
    "  <tr>\n",
    "    <td>User2</td>\n",
    "    <td>3</td> \n",
    "    <td><font color=\"red\"><b>¿?</b></font></td>\n",
    "    <td>4.5</td>\n",
    "    <td>3</td>\n",
    "  </tr>\n",
    "  <tr>\n",
    "    <td>User3</td>\n",
    "    <td>3.5</td> \n",
    "    <td>5</td>\n",
    "    <td>3.5</td>\n",
    "    <td>2</td>\n",
    "  </tr>\n",
    "</table>\n",
    "\n",
    "<br><br><br><br>\n",
    "\n",
    "<h3>How to measure similarity between users?</h3>\n",
    "The computation of the similarity between the items is one critical step in the CF algorithms. The basic idea in similarity computation between two users <i>a</i> and <i>b</i> is to first isolate the items commonly rated by both users (set <i>P</i>), and then to apply a similarity computation technique to determine the similarity.\n",
    "    <ul>\n",
    "    <li>Euclidean distance</li>\n",
    "    $$sim(a,b) = \\sqrt{\\sum_{p \\in P}{(r_{a,p} - r_{b,p})^2}}$$\n",
    "    <br>\n",
    "    <li>Pearson Correlation</li>\n",
    "    $$sim(a,b) = \\frac{\\sum_{p\\in P} (r_{a,p}-\\bar{r_a})(r_{b,p}-\\bar{r_b})}{\\sqrt{\\sum_{p \\in P}(r_{a,p}-\\bar{r_a})²}\\sqrt{\\sum_{p \\in P}(r_{b,p}-\\bar{r_b})²}}$$\n",
    "    <br>\n",
    "    <li>Cosine distance</li>\n",
    "    $$ sim(a,b) = \\frac{\\vec{a}· \\vec{b}}{|\\vec{a}| * |\\vec{b}|}$$\n",
    "    <br>\n",
    "    </ul>\n",
    "  \n",
    "<br>\n",
    "Where: \n",
    "\n",
    "* $sim(a,b)$ is the similarity between user \"a\" and user \"b\"\n",
    "* $P$ is the set of common rated movies by user \"a\" and \"b\"\n",
    "* $r_{a,p}$ is the rating of movie \"p\" by user \"a\"\n",
    "* $\\bar{r_a}$ is the mean rating given by user \"a\"\n",
    "\n",
    "<br>\n",
    "\n",
    "<h3>Some issues to take into accout</h3>\n",
    "<ul>\n",
    "<li>Pearson Correlation used to work better than euclidean distance since it is based more on the ranking than on the values.</li>\n",
    "<li>Cosine distance is usually used when our data is binary/unary, i.e. like vs. not like  or buy vs. not buy.</li>\n",
    "<li>What happens if two users have very few items in common?</li>\n",
    "</ul>\n",
    "\n",
    "\n",
    "<h3>How do we generate a prediction from the neighbour's ratings?</h3><br>\n",
    "\n",
    "$$pred(a,p) = \\frac{\\sum_{b \\in N}{sim(a,b)*(r_{b,p})}}{\\sum_{b \\in N}{sim(a,b)}}$$\n",
    "\n",
    "Example:\n",
    "<br>\n",
    "<table style=\"width:100%\">\n",
    "  <tr>\n",
    "    <td>Critic</td>\n",
    "    <td>$sim(a,b)$</td> \n",
    "    <td>Rating Movie1: $r_{b,p_1}$</td>\n",
    "    <td>$sim(a,b)*(r_{b,p_1})$</td>\n",
    "    <td>Rating Movie2: $r_{b,p_2}$</td>\n",
    "    <td>$sim(a,b)*(r_{b,p_2})$</td>\n",
    "    \n",
    "  </tr>\n",
    "  <tr>\n",
    "    <td>User1</td>\n",
    "    <td>0.99</td> \n",
    "    <td>3</td>\n",
    "    <td>2.97</td>\n",
    "    <td>2.5</td>\n",
    "    <td>2.48</td>\n",
    "    \n",
    "  </tr>\n",
    "  <tr>\n",
    "    <td>User2</td>\n",
    "    <td>0.38</td> \n",
    "    <td>3</td>\n",
    "    <td>1.14</td>\n",
    "    <td>3</td>\n",
    "    <td>1.14</td>\n",
    "  </tr>\n",
    "  <tr>\n",
    "    <td>User3</td>\n",
    "    <td>0.89</td>\n",
    "    <td>4.5</td>\n",
    "    <td>4.0</td>\n",
    "    <td> - </td>\n",
    "    <td> - </td>\n",
    "  </tr>\n",
    "  <tr>\n",
    "    <td>User4</td>\n",
    "    <td>0.92</td>\n",
    "    <td>3</td>\n",
    "    <td>2.77</td>\n",
    "    <td>3</td>\n",
    "    <td>2.77</td>\n",
    "  </tr>\n",
    "  <tr>\n",
    "    <td>$\\sum_{b \\in N}{sim(a,b)*(r_{b,p})}$</td>\n",
    "    <td></td> \n",
    "    <td></td>\n",
    "    <td>10.87</td>\n",
    "    <td></td>\n",
    "    <td>6.39</td>\n",
    "  </tr>\n",
    "  <tr>\n",
    "    <td>$\\sum_{b \\in N}{sim(a,b)}$</td>\n",
    "    <td></td> \n",
    "    <td></td>\n",
    "    <td>3.18</td>\n",
    "    <td></td>\n",
    "    <td>2.29</td>\n",
    "  </tr>\n",
    "  <tr>\n",
    "  <td>$pred(a,p)$</td>\n",
    "    <td></td> \n",
    "    <td></td>\n",
    "    <td>3.41</td>\n",
    "    <td></td>\n",
    "    <td>2.79</td>\n",
    "  </tr>\n",
    "</table>\n",
    "\n",
    "\n",
    "<br>\n",
    "<h3><br><b>How improve this prediction function?</b></h3>\n",
    "<h4> 1) Normalization: Predicitions scaled to the user domain.</h4><br>\n",
    "Users rate differntly, some rate high, while other low. This is the prediction function that was used in the original in Netflix system. Using this function we are scaling the prediction to our mean.<br>\n",
    "\n",
    "$$pred(a,p) = \\bar{r_a} + \\frac{\\sum_{b \\in N}{sim(a,b)*(r_{b,p}-\\bar{r_b})}}{\\sum_{b \\in N}{sim(a,b)}}$$\n",
    "<br>\n",
    "\n",
    "\n",
    "Example:<br>\n",
    "Preciction for the user \"a\" with  $\\bar{r_a} = 3.5$\n",
    "<table style=\"width:100%\">\n",
    "  <tr>\n",
    "    <td>Critic</td>\n",
    "    <td>$sim(a,b)$</td> \n",
    "    <td>Mean Ratings: $\\bar{r_b}$</td>\n",
    "    <td>Rating Movie1: $r_{b,p_1}$</td>\n",
    "    <td>$sim(a,b)*(r_{b,p_1}-\\bar{r_b})$</td>\n",
    "\n",
    "    \n",
    "  </tr>\n",
    "  <tr>\n",
    "    <td>User1</td>\n",
    "    <td>0.99</td> \n",
    "    <td>4.3</td> \n",
    "    <td>3</td>\n",
    "    <td>-1.28</td>\n",
    "\n",
    "    \n",
    "  </tr>\n",
    "  <tr>\n",
    "    <td>User2</td>\n",
    "    <td>0.38</td> \n",
    "    <td>2.73</td> \n",
    "    <td>3</td>\n",
    "    <td>0.10</td>\n",
    "\n",
    "  </tr>\n",
    "  <tr>\n",
    "    <td>User3</td>\n",
    "    <td>0.89</td>\n",
    "    <td>3.12</td>  \n",
    "    <td>4.5</td>\n",
    "    <td>1.22</td>\n",
    "\n",
    "  </tr>\n",
    "  <tr>\n",
    "    <td>User4</td>\n",
    "    <td>0.92</td>\n",
    "    <td>3.98</td>  \n",
    "    <td>3</td>\n",
    "    <td>-0.90</td>\n",
    "\n",
    "  </tr>\n",
    "  <tr>\n",
    "    <td>$\\sum_{b \\in N}{sim(a,b)*(r_{b,p}-\\bar{r_b})}$</td>\n",
    "    <td></td> \n",
    "    <td></td>\n",
    "    <td></td>\n",
    "    <td>-1.13</td>\n",
    "\n",
    "  </tr>\n",
    "  <tr>\n",
    "    <td>$\\sum_{b \\in N}{sim(a,b)}$</td>\n",
    "    <td></td> \n",
    "    <td></td>\n",
    "    <td></td>\n",
    "    <td>3.84</td>\n",
    "\n",
    "  </tr>\n",
    "  <tr>\n",
    "  <td>$pred(a,p)$</td>\n",
    "    <td></td> \n",
    "    <td></td>\n",
    "    <td></td>\n",
    "    <td>3.20</td>\n",
    "\n",
    "  </tr>\n",
    "</table>\n",
    "\n",
    "<h4> 2) Not all neighbor rating might be equally.</h4><br>\n",
    "Agreeement on commonly liked items is not as important as agreeement on controversial items. we can give a weigth correlated with the rating variance.\n",
    "\n",
    "<h4> 3) Value of number of co-rated items</h4>\n",
    "Reduce the similarity between users when the number of co-rated items is low or discard those users with a small number of co-rated items\n",
    "\n",
    "<h4> 4) Case amplificiation </h4>\n",
    "Increase the weigth to those users which are really really similars (~= 1)\n",
    "\n",
    "<h4> 5) Neighborhood selection</h4>\n",
    "Only a subset of similar user used to be used. Not-similar users used to be discarded\n",
    "\n",
    "<h4> 6) Recursive Methods</h4>\n",
    "In order to avoid cold-start we can apply a recursive method for new users.\n",
    "\n",
    "\n",
    "\n",
    "\n",
    "<h3>Problems:</h3><br>\n",
    "<ul>\n",
    "<li>\"Memory-based\" approach</li>\n",
    "<li>Need to be trained offline and updateted periodically</li>\n",
    "</ul>"
   ]
  },
  {
   "cell_type": "markdown",
   "metadata": {},
   "source": [
    "<h3>Evaluation: performance criterion</h3>\n",
    "Performance evaluation of recommendation systems is an entire topic all in itself. Some of the options include:<br>\n",
    "* $RMSE = \\sqrt{(\\frac{\\sum(\\hat{y}-y)^2}{n})}$\n",
    "<br>\n",
    "* Precision / Recall / F-scores\n",
    "* ROC curves\n",
    "* Cost curves"
   ]
  },
  {
   "cell_type": "code",
   "execution_count": 1,
   "metadata": {
    "collapsed": false
   },
   "outputs": [],
   "source": [
    "def compute_rmse(y_pred, y_true):\n",
    "    \"\"\" Compute Root Mean Squared Error. \"\"\"\n",
    "    return np.sqrt(np.mean(np.power(y_pred - y_true, 2)))"
   ]
  },
  {
   "cell_type": "markdown",
   "metadata": {},
   "source": [
    "<h5>Download Movilens Database</h5>\n",
    "There is three different version of the database containing 100k, 1m and 10m ratings. We can download the smallest version for this demo.\n",
    "http://grouplens.org/datasets/movielens/\n",
    "\n"
   ]
  },
  {
   "cell_type": "code",
   "execution_count": 2,
   "metadata": {
    "collapsed": false,
    "scrolled": true
   },
   "outputs": [
    {
     "data": {
      "application/javascript": [
       "IPython.notebook.set_autosave_interval(150000)"
      ]
     },
     "metadata": {},
     "output_type": "display_data"
    },
    {
     "name": "stdout",
     "output_type": "stream",
     "text": [
      "Autosaving every 150 seconds\n",
      "La BD has 100000 ratings\n",
      "La BD has  943  users\n",
      "La BD has  1682  movies\n",
      "   user_id         title  movie_id  rating release_date sex  age\n",
      "0      196  Kolya (1996)       242       3  24-Jan-1997   M   49\n",
      "1      305  Kolya (1996)       242       5  24-Jan-1997   M   23\n",
      "2        6  Kolya (1996)       242       4  24-Jan-1997   M   42\n",
      "3      234  Kolya (1996)       242       4  24-Jan-1997   M   60\n",
      "4       63  Kolya (1996)       242       3  24-Jan-1997   M   31\n"
     ]
    }
   ],
   "source": [
    "#NETFLIX REAL 50.000.000 usuaris and 100.000 items\n",
    "%autosave 150\n",
    "%matplotlib inline\n",
    "import pandas as pd\n",
    "import numpy as np\n",
    "import math\n",
    "import matplotlib.pylab as plt\n",
    "\n",
    "# Load Data set\n",
    "u_cols = ['user_id', 'age', 'sex', 'occupation', 'zip_code']\n",
    "users = pd.read_csv('data/ml-100k/u.user', sep='|', names=u_cols)\n",
    "\n",
    "r_cols = ['user_id', 'movie_id', 'rating', 'unix_timestamp']\n",
    "ratings = pd.read_csv('data/ml-100k/u.data', sep='\\t', names=r_cols)\n",
    "\n",
    "# the movies file contains columns indicating the movie's genres\n",
    "# let's only load the first three columns of the file with usecols\n",
    "m_cols = ['movie_id', 'title', 'release_date']\n",
    "movies = pd.read_csv('data/ml-100k/u.item', sep='|', names=m_cols, usecols=range(3))\n",
    "\n",
    "# Construcció del DataFrame\n",
    "data = pd.merge(pd.merge(ratings, users), movies)\n",
    "data = data[['user_id','title', 'movie_id','rating','release_date','sex','age']]\n",
    "\n",
    "\n",
    "print \"La BD has \"+ str(data.shape[0]) +\" ratings\"\n",
    "print \"La BD has \", data.user_id.nunique(),\" users\"\n",
    "print \"La BD has \", data.movie_id.nunique(), \" movies\"\n",
    "print data.head()\n"
   ]
  },
  {
   "cell_type": "markdown",
   "metadata": {},
   "source": [
    "##### Divide the data in two sets: training and test"
   ]
  },
  {
   "cell_type": "code",
   "execution_count": 3,
   "metadata": {
    "collapsed": false
   },
   "outputs": [
    {
     "name": "stdout",
     "output_type": "stream",
     "text": [
      "(79619, 8)\n",
      "(20381, 8)\n",
      "Int64Index([], dtype='int64')\n",
      "Training data_set has 79619 ratings\n",
      "Test data set has 20381 ratings\n",
      "La BD has  1682  movies\n"
     ]
    }
   ],
   "source": [
    "def assign_to_set(df):\n",
    "    sampled_ids = np.random.choice(df.index,\n",
    "                                   size=np.int64(np.ceil(df.index.size * 0.2)),\n",
    "                                   replace=False)\n",
    "    df.ix[sampled_ids, 'for_testing'] = True\n",
    "    return df\n",
    "\n",
    "data['for_testing'] = False\n",
    "grouped = data.groupby('user_id', group_keys=False).apply(assign_to_set)\n",
    "data_train = data[grouped.for_testing == False]\n",
    "data_test = data[grouped.for_testing == True]\n",
    "print data_train.shape\n",
    "print data_test.shape\n",
    "print data_train.index & data_test.index\n",
    "\n",
    "print \"Training data_set has \"+ str(data_train.shape[0]) +\" ratings\"\n",
    "print \"Test data set has \"+ str(data_test.shape[0]) +\" ratings\"\n",
    "print \"La BD has \", data.movie_id.nunique(), \" movies\"\n"
   ]
  },
  {
   "cell_type": "markdown",
   "metadata": {},
   "source": [
    "##### How to get the set of movies from user with id  \"1\"?"
   ]
  },
  {
   "cell_type": "code",
   "execution_count": 4,
   "metadata": {
    "collapsed": false
   },
   "outputs": [
    {
     "data": {
      "text/html": [
       "<div>\n",
       "<table border=\"1\" class=\"dataframe\">\n",
       "  <thead>\n",
       "    <tr style=\"text-align: right;\">\n",
       "      <th></th>\n",
       "      <th>user_id</th>\n",
       "      <th>title</th>\n",
       "      <th>movie_id</th>\n",
       "      <th>rating</th>\n",
       "      <th>release_date</th>\n",
       "      <th>sex</th>\n",
       "      <th>age</th>\n",
       "      <th>for_testing</th>\n",
       "    </tr>\n",
       "  </thead>\n",
       "  <tbody>\n",
       "    <tr>\n",
       "      <th>417</th>\n",
       "      <td>1</td>\n",
       "      <td>Shall We Dance? (1996)</td>\n",
       "      <td>251</td>\n",
       "      <td>4</td>\n",
       "      <td>11-Jul-1997</td>\n",
       "      <td>M</td>\n",
       "      <td>24</td>\n",
       "      <td>False</td>\n",
       "    </tr>\n",
       "    <tr>\n",
       "      <th>940</th>\n",
       "      <td>1</td>\n",
       "      <td>Raising Arizona (1987)</td>\n",
       "      <td>238</td>\n",
       "      <td>4</td>\n",
       "      <td>01-Jan-1987</td>\n",
       "      <td>M</td>\n",
       "      <td>24</td>\n",
       "      <td>False</td>\n",
       "    </tr>\n",
       "    <tr>\n",
       "      <th>1618</th>\n",
       "      <td>1</td>\n",
       "      <td>Birdcage, The (1996)</td>\n",
       "      <td>25</td>\n",
       "      <td>4</td>\n",
       "      <td>08-Mar-1996</td>\n",
       "      <td>M</td>\n",
       "      <td>24</td>\n",
       "      <td>False</td>\n",
       "    </tr>\n",
       "    <tr>\n",
       "      <th>2363</th>\n",
       "      <td>1</td>\n",
       "      <td>Home Alone (1990)</td>\n",
       "      <td>94</td>\n",
       "      <td>2</td>\n",
       "      <td>01-Jan-1990</td>\n",
       "      <td>M</td>\n",
       "      <td>24</td>\n",
       "      <td>False</td>\n",
       "    </tr>\n",
       "    <tr>\n",
       "      <th>2677</th>\n",
       "      <td>1</td>\n",
       "      <td>Babe (1995)</td>\n",
       "      <td>8</td>\n",
       "      <td>1</td>\n",
       "      <td>01-Jan-1995</td>\n",
       "      <td>M</td>\n",
       "      <td>24</td>\n",
       "      <td>False</td>\n",
       "    </tr>\n",
       "  </tbody>\n",
       "</table>\n",
       "</div>"
      ],
      "text/plain": [
       "      user_id                   title  movie_id  rating release_date sex  age  \\\n",
       "417         1  Shall We Dance? (1996)       251       4  11-Jul-1997   M   24   \n",
       "940         1  Raising Arizona (1987)       238       4  01-Jan-1987   M   24   \n",
       "1618        1    Birdcage, The (1996)        25       4  08-Mar-1996   M   24   \n",
       "2363        1       Home Alone (1990)        94       2  01-Jan-1990   M   24   \n",
       "2677        1             Babe (1995)         8       1  01-Jan-1995   M   24   \n",
       "\n",
       "     for_testing  \n",
       "417        False  \n",
       "940        False  \n",
       "1618       False  \n",
       "2363       False  \n",
       "2677       False  "
      ]
     },
     "execution_count": 4,
     "metadata": {},
     "output_type": "execute_result"
    }
   ],
   "source": [
    "data_train[data_train.user_id==1].head(5)"
   ]
  },
  {
   "cell_type": "markdown",
   "metadata": {},
   "source": [
    "##### Mean Rating of movies seen by user \"1\""
   ]
  },
  {
   "cell_type": "code",
   "execution_count": 5,
   "metadata": {
    "collapsed": false
   },
   "outputs": [
    {
     "data": {
      "text/plain": [
       "3.6036866359447006"
      ]
     },
     "execution_count": 5,
     "metadata": {},
     "output_type": "execute_result"
    }
   ],
   "source": [
    "data_train[data_train.user_id==1].rating.mean()"
   ]
  },
  {
   "cell_type": "markdown",
   "metadata": {},
   "source": [
    "##### Mean rating of movie with title \"Seven (Se7en) (1995)\""
   ]
  },
  {
   "cell_type": "code",
   "execution_count": 6,
   "metadata": {
    "collapsed": false
   },
   "outputs": [
    {
     "data": {
      "text/plain": [
       "3.8961748633879782"
      ]
     },
     "execution_count": 6,
     "metadata": {},
     "output_type": "execute_result"
    }
   ],
   "source": [
    "data_train.rating[data_train.title==\"Seven (Se7en) (1995)\"].mean()"
   ]
  },
  {
   "cell_type": "markdown",
   "metadata": {},
   "source": [
    "##### Which are the 10 most rated movies?"
   ]
  },
  {
   "cell_type": "code",
   "execution_count": 7,
   "metadata": {
    "collapsed": false
   },
   "outputs": [
    {
     "data": {
      "text/plain": [
       "title\n",
       "Star Wars (1977)                  470\n",
       "Fargo (1996)                      408\n",
       "Contact (1997)                    403\n",
       "Return of the Jedi (1983)         384\n",
       "Liar Liar (1997)                  374\n",
       "English Patient, The (1996)       369\n",
       "Scream (1996)                     363\n",
       "Toy Story (1995)                  355\n",
       "Air Force One (1997)              347\n",
       "Raiders of the Lost Ark (1981)    334\n",
       "dtype: int64"
      ]
     },
     "execution_count": 7,
     "metadata": {},
     "output_type": "execute_result"
    }
   ],
   "source": [
    "data_train.groupby('title').size().sort_values(ascending=False).head(10)"
   ]
  },
  {
   "cell_type": "markdown",
   "metadata": {},
   "source": [
    "##### Which are the 10 movies with the highest score"
   ]
  },
  {
   "cell_type": "code",
   "execution_count": 8,
   "metadata": {
    "collapsed": false
   },
   "outputs": [
    {
     "data": {
      "text/plain": [
       "title\n",
       "Visitors, The (Visiteurs, Les) (1993)                5.0\n",
       "Someone Else's America (1995)                        5.0\n",
       "Angel Baby (1995)                                    5.0\n",
       "Marlene Dietrich: Shadow and Light (1996)            5.0\n",
       "Maya Lin: A Strong Clear Vision (1994)               5.0\n",
       "Entertaining Angels: The Dorothy Day Story (1996)    5.0\n",
       "Santa with Muscles (1996)                            5.0\n",
       "Great Day in Harlem, A (1994)                        5.0\n",
       "Prefontaine (1997)                                   5.0\n",
       "Saint of Fort Washington, The (1993)                 5.0\n",
       "Name: rating, dtype: float64"
      ]
     },
     "execution_count": 8,
     "metadata": {},
     "output_type": "execute_result"
    }
   ],
   "source": [
    "data_train.groupby('title').rating.mean().sort_values(ascending=False).head(10)"
   ]
  },
  {
   "cell_type": "code",
   "execution_count": 9,
   "metadata": {
    "collapsed": false
   },
   "outputs": [
    {
     "data": {
      "text/plain": [
       "title\n",
       "Saint of Fort Washington, The (1993)                 5.0\n",
       "Prefontaine (1997)                                   5.0\n",
       "Great Day in Harlem, A (1994)                        5.0\n",
       "Santa with Muscles (1996)                            5.0\n",
       "Entertaining Angels: The Dorothy Day Story (1996)    5.0\n",
       "Maya Lin: A Strong Clear Vision (1994)               5.0\n",
       "Marlene Dietrich: Shadow and Light (1996)            5.0\n",
       "Angel Baby (1995)                                    5.0\n",
       "Someone Else's America (1995)                        5.0\n",
       "Visitors, The (Visiteurs, Les) (1993)                5.0\n",
       "Name: rating, dtype: float64"
      ]
     },
     "execution_count": 9,
     "metadata": {},
     "output_type": "execute_result"
    }
   ],
   "source": [
    "data_train.groupby('title').rating.mean().sort_values().tail(10)"
   ]
  },
  {
   "cell_type": "markdown",
   "metadata": {},
   "source": [
    "##### Top movies rated more than 10 times"
   ]
  },
  {
   "cell_type": "code",
   "execution_count": 10,
   "metadata": {
    "collapsed": false
   },
   "outputs": [
    {
     "data": {
      "text/plain": [
       "title\n",
       "Close Shave, A (1995)                                     4.566265\n",
       "Schindler's List (1993)                                   4.519149\n",
       "Wrong Trousers, The (1993)                                4.479167\n",
       "Casablanca (1942)                                         4.476190\n",
       "Wallace & Gromit: The Best of Aardman Animation (1996)    4.472727\n",
       "Name: rating, dtype: float64"
      ]
     },
     "execution_count": 10,
     "metadata": {},
     "output_type": "execute_result"
    }
   ],
   "source": [
    "size = data_train.groupby('title').size()\n",
    "mean_score = data_train.groupby('title').rating.mean()\n",
    "mean_score[size>10].sort_values(ascending=False).head()"
   ]
  },
  {
   "cell_type": "markdown",
   "metadata": {},
   "source": [
    "##### Which is the distibution of rated movies per user?"
   ]
  },
  {
   "cell_type": "code",
   "execution_count": 11,
   "metadata": {
    "collapsed": false
   },
   "outputs": [
    {
     "data": {
      "text/plain": [
       "<matplotlib.axes._subplots.AxesSubplot at 0x1150980d0>"
      ]
     },
     "execution_count": 11,
     "metadata": {},
     "output_type": "execute_result"
    },
    {
     "data": {
      "image/png": "[encoded data removed]",
      "text/plain": [
       "<matplotlib.figure.Figure at 0x1068bb450>"
      ]
     },
     "metadata": {},
     "output_type": "display_data"
    }
   ],
   "source": [
    "rated_movies = data_train.groupby('user_id').size().sort_values(ascending=False)\n",
    "rated_movies.hist(bins=100)\n"
   ]
  },
  {
   "cell_type": "markdown",
   "metadata": {},
   "source": [
    "##### Which is the mean movie scores per year?"
   ]
  },
  {
   "cell_type": "code",
   "execution_count": 12,
   "metadata": {
    "collapsed": false
   },
   "outputs": [
    {
     "name": "stderr",
     "output_type": "stream",
     "text": [
      "/Users/ssegui/anaconda2/lib/python2.7/site-packages/pandas/core/indexing.py:288: SettingWithCopyWarning: \n",
      "A value is trying to be set on a copy of a slice from a DataFrame.\n",
      "Try using .loc[row_indexer,col_indexer] = value instead\n",
      "\n",
      "See the caveats in the documentation: http://pandas.pydata.org/pandas-docs/stable/indexing.html#indexing-view-versus-copy\n",
      "  self.obj[key] = _infer_fill_value(value)\n",
      "/Users/ssegui/anaconda2/lib/python2.7/site-packages/pandas/core/indexing.py:465: SettingWithCopyWarning: \n",
      "A value is trying to be set on a copy of a slice from a DataFrame.\n",
      "Try using .loc[row_indexer,col_indexer] = value instead\n",
      "\n",
      "See the caveats in the documentation: http://pandas.pydata.org/pandas-docs/stable/indexing.html#indexing-view-versus-copy\n",
      "  self.obj[item] = s\n"
     ]
    },
    {
     "data": {
      "text/plain": [
       "(2.0, 4.4472361809045227)"
      ]
     },
     "execution_count": 12,
     "metadata": {},
     "output_type": "execute_result"
    },
    {
     "data": {
      "image/png": "[encoded data removed]",
      "text/plain": [
       "<matplotlib.figure.Figure at 0x1068d6110>"
      ]
     },
     "metadata": {},
     "output_type": "display_data"
    }
   ],
   "source": [
    "from math import isnan\n",
    "data_train.loc[:,'release_year'] = data_train['release_date'].apply(lambda x: int(str(x)[-4:]) if isnan(float(str(x)[-4:]))==False else 2010)\n",
    "\n",
    "rank_per_year = data_train.groupby('release_year')['rating'].mean()\n",
    "plt.bar(rank_per_year.keys(), rank_per_year, facecolor='#9999ff', edgecolor='white')\n",
    "plt.ylabel(\"Mean Score\")\n",
    "plt.ylim((min(rank_per_year),max(rank_per_year)))"
   ]
  },
  {
   "cell_type": "markdown",
   "metadata": {},
   "source": [
    "##### Which movies are most controversial amongst different ages?"
   ]
  },
  {
   "cell_type": "code",
   "execution_count": 13,
   "metadata": {
    "collapsed": false
   },
   "outputs": [
    {
     "data": {
      "image/png": "[encoded data removed]",
      "text/plain": [
       "<matplotlib.figure.Figure at 0x115a09f10>"
      ]
     },
     "metadata": {},
     "output_type": "display_data"
    },
    {
     "name": "stdout",
     "output_type": "stream",
     "text": [
      "   movie_id  age age_group\n",
      "0       242   49     40-49\n",
      "1       242   23     20-29\n",
      "2       242   42     40-49\n",
      "3       242   60     60-69\n",
      "4       242   31     30-39\n",
      "          rating          \n",
      "            size      mean\n",
      "age_group                 \n",
      "0-9           34  3.617647\n",
      "10-19       6511  3.492397\n",
      "20-29      31490  3.470117\n",
      "30-39      20465  3.553824\n",
      "40-49      11951  3.590662\n",
      "50-59       6926  3.634710\n",
      "60-69       2087  3.635362\n",
      "70-79        155  3.625806\n"
     ]
    },
    {
     "name": "stderr",
     "output_type": "stream",
     "text": [
      "/Users/ssegui/anaconda2/lib/python2.7/site-packages/ipykernel/__main__.py:8: SettingWithCopyWarning: \n",
      "A value is trying to be set on a copy of a slice from a DataFrame.\n",
      "Try using .loc[row_indexer,col_indexer] = value instead\n",
      "\n",
      "See the caveats in the documentation: http://pandas.pydata.org/pandas-docs/stable/indexing.html#indexing-view-versus-copy\n"
     ]
    }
   ],
   "source": [
    "users.age.hist(bins=100)\n",
    "plt.title(\"Distribution of users' ages\")\n",
    "plt.ylabel('count of users')\n",
    "plt.xlabel('age')\n",
    "plt.show()\n",
    "\n",
    "labels = ['0-9', '10-19', '20-29', '30-39', '40-49', '50-59', '60-69', '70-79']\n",
    "data_train['age_group'] = pd.cut(data_train.age, range(0, 81, 10), right=False, labels=labels)\n",
    "print data_train[['movie_id','age', 'age_group']].head()\n",
    "\n",
    "print data_train.groupby('age_group').agg({'rating': [np.size, np.mean]})\n"
   ]
  },
  {
   "cell_type": "code",
   "execution_count": 14,
   "metadata": {
    "collapsed": false
   },
   "outputs": [
    {
     "name": "stdout",
     "output_type": "stream",
     "text": [
      "Max puntuation of user 2 is: 5\n",
      "32                        Kolya (1996)\n",
      "424             Shall We Dance? (1996)\n",
      "4627             Secrets & Lies (1996)\n",
      "6455          L.A. Confidential (1997)\n",
      "11911                     Fargo (1996)\n",
      "32768            Godfather, The (1972)\n",
      "33462                 Star Wars (1977)\n",
      "55954                   Titanic (1997)\n",
      "58130    Wings of the Dove, The (1997)\n",
      "63360     Sense and Sensibility (1995)\n",
      "71232         Good Will Hunting (1997)\n",
      "78981                      Emma (1996)\n",
      "82001        As Good As It Gets (1997)\n",
      "Name: title, dtype: object\n"
     ]
    }
   ],
   "source": [
    "def top_movies(dataFrame,usr):\n",
    "    max_i = dataFrame[dataFrame.user_id == usr].rating.max() \n",
    "    print \"Max puntuation of user\", usr, \"is:\", max_i\n",
    "    return dataFrame[(dataFrame['user_id'] == usr) & (dataFrame['rating'] == max_i )].title\n",
    "\n",
    "print top_movies(data,2)"
   ]
  },
  {
   "cell_type": "markdown",
   "metadata": {},
   "source": [
    "##### <h5>Which is the similarity between user 1 and user 2?</h5> <h6>Let's look first for the common seen movies by the users </h6>"
   ]
  },
  {
   "cell_type": "code",
   "execution_count": 15,
   "metadata": {
    "collapsed": false
   },
   "outputs": [
    {
     "name": "stdout",
     "output_type": "stream",
     "text": [
      "\n",
      "Number of common movies 10 \n",
      "\n",
      "                        title  rating\n",
      "417    Shall We Dance? (1996)       4\n",
      "1618     Birdcage, The (1996)       4\n",
      "9338     Jerry Maguire (1996)       2\n",
      "17406          Contact (1997)       5\n",
      "32722   Godfather, The (1972)       5\n",
      "                        title  rating\n",
      "424    Shall We Dance? (1996)       5\n",
      "1648     Birdcage, The (1996)       4\n",
      "9381     Jerry Maguire (1996)       4\n",
      "17474          Contact (1997)       3\n",
      "32768   Godfather, The (1972)       5\n"
     ]
    }
   ],
   "source": [
    "# dataframe with the data from user 1\n",
    "data_user_1 = data_train[data_train.user_id==1]\n",
    "# dataframe with the data from user 2\n",
    "data_user_2 = data_train[data_train.user_id==2]\n",
    "# We first compute the set of common movies\n",
    "common_movies = set(data_user_1.movie_id).intersection(data_user_2.movie_id)\n",
    "print \"\\nNumber of common movies\",len(common_movies),'\\n'\n",
    "\n",
    "# creat the subdataframe with only with the common movies\n",
    "mask = (data_user_1.movie_id.isin(common_movies))\n",
    "data_user_1 = data_user_1[mask]\n",
    "print data_user_1[['title','rating']].head()\n",
    "\n",
    "mask = (data_user_2.movie_id.isin(common_movies))\n",
    "data_user_2 = data_user_2[mask]\n",
    "print data_user_2[['title','rating']].head()\n"
   ]
  },
  {
   "cell_type": "code",
   "execution_count": 16,
   "metadata": {
    "collapsed": false
   },
   "outputs": [
    {
     "data": {
      "text/plain": [
       "(0    5\n",
       " 1    4\n",
       " 2    4\n",
       " 3    3\n",
       " 4    5\n",
       " 5    4\n",
       " 6    4\n",
       " 7    4\n",
       " 8    3\n",
       " 9    2\n",
       " Name: rating_y, dtype: int64, 0    4\n",
       " 1    4\n",
       " 2    2\n",
       " 3    5\n",
       " 4    5\n",
       " 5    2\n",
       " 6    5\n",
       " 7    5\n",
       " 8    5\n",
       " 9    3\n",
       " Name: rating_x, dtype: int64)"
      ]
     },
     "execution_count": 16,
     "metadata": {},
     "output_type": "execute_result"
    }
   ],
   "source": [
    "r = pd.merge(data_user_1[['user_id','movie_id','rating']],data_user_2[['user_id','movie_id','rating']],on='movie_id')\n",
    "r.rating_y,r.rating_x\n"
   ]
  },
  {
   "cell_type": "markdown",
   "metadata": {},
   "source": [
    "<h6>Let's define a function to compute the users similarity </h6>"
   ]
  },
  {
   "cell_type": "code",
   "execution_count": 17,
   "metadata": {
    "collapsed": false
   },
   "outputs": [
    {
     "name": "stdout",
     "output_type": "stream",
     "text": [
      "0.0969458417912\n",
      "0.182743997632\n"
     ]
    }
   ],
   "source": [
    "from scipy.stats import pearsonr\n",
    "from scipy.spatial.distance import euclidean\n",
    "\n",
    "# Returns a distance-based similarity score for person1 and person2\n",
    "def SimEuclid(DataFrame,User1,User2,min_common_items=1):\n",
    "    # GET MOVIES OF USER1\n",
    "    movies_user1=DataFrame[DataFrame['user_id'] ==User1 ]\n",
    "    # GET MOVIES OF USER2\n",
    "    movies_user2=DataFrame[DataFrame['user_id'] ==User2 ]\n",
    "    \n",
    "    # FIND SHARED FILMS\n",
    "    rep=pd.merge(movies_user1 ,movies_user2,on='movie_id')    \n",
    "    if len(rep)==0:\n",
    "        return 0\n",
    "    if(len(rep)<min_common_items):\n",
    "        return 0\n",
    "    #return distEuclid(rep['rating_x'],rep['rating_y']) \n",
    "    return 1.0/(1.0+euclidean(rep['rating_x'],rep['rating_y'])) \n",
    "\n",
    "# Returns a pearsonCorrealation-based similarity score for person1 and person2\n",
    "def SimPearson(DataFrame,User1,User2,min_common_items=1):\n",
    "    # GET MOVIES OF USER1\n",
    "    movies_user1=DataFrame[DataFrame['user_id'] ==User1 ]\n",
    "    # GET MOVIES OF USER2\n",
    "    movies_user2=DataFrame[DataFrame['user_id'] ==User2 ]\n",
    "    \n",
    "    # FIND SHARED FILMS\n",
    "    rep=pd.merge(movies_user1 ,movies_user2,on='movie_id',)\n",
    "    if len(rep)==0:\n",
    "        return 0    \n",
    "    if(len(rep)<min_common_items):\n",
    "        return 0    \n",
    "    res=pearsonr(rep['rating_x'],rep['rating_y'])[0]\n",
    "    if(isnan(res)):\n",
    "        return 0\n",
    "    return res\n",
    "\n",
    "print SimPearson(data_train,1,2)\n",
    "print SimEuclid(data_train,1,2)"
   ]
  },
  {
   "cell_type": "markdown",
   "metadata": {},
   "source": [
    "<h5>Let's build a Recommender System</h5>"
   ]
  },
  {
   "cell_type": "code",
   "execution_count": 18,
   "metadata": {
    "collapsed": false
   },
   "outputs": [],
   "source": [
    "class CollaborativeFiltering:\n",
    "    \"\"\" Collaborative filtering using a custom sim(u,u'). \"\"\"\n",
    "    \n",
    "    def __init__(self,DataFrame, similarity=SimPearson):\n",
    "        \"\"\" Constructor \"\"\"\n",
    "        self.sim_method=similarity# Gets recommendations for a person by using a weighted average\n",
    "        self.df=DataFrame\n",
    "        self.sim = pd.DataFrame(np.sum([0]),columns=data_train.user_id.unique(), index=data_train.user_id.unique())\n",
    "\n",
    "    def learn(self):\n",
    "        \"\"\" Prepare data structures for estimation. Similarity matrix for users \"\"\"\n",
    "        allUsers=set(self.df['user_id'])\n",
    "        self.sim = {}\n",
    "        for person1 in allUsers:\n",
    "            self.sim.setdefault(person1, {})\n",
    "            a=data_train[data_train['user_id']==person1][['movie_id']]\n",
    "            data_reduced=pd.merge(data_train,a,on='movie_id')\n",
    "            for person2 in allUsers:\n",
    "                # no es comparem am nosalres mateixos\n",
    "                if person1==person2: continue\n",
    "                self.sim.setdefault(person2, {})\n",
    "                if(self.sim[person2].has_key(person1)):continue # since is a simetric matrix\n",
    "                sim=self.sim_method(data_reduced,person1,person2)\n",
    "                if(sim<0):\n",
    "                    self.sim[person1][person2]=0\n",
    "                    self.sim[person2][person1]=0\n",
    "                else:\n",
    "                    self.sim[person1][person2]=sim\n",
    "                    self.sim[person2][person1]=sim\n",
    "                \n",
    "    def estimate(self, user_id, movie_id):\n",
    "        totals={}\n",
    "        movie_users=self.df[self.df['movie_id'] ==movie_id]\n",
    "        rating_num=0.0\n",
    "        rating_den=0.0\n",
    "        allUsers=set(movie_users['user_id'])\n",
    "        for other in allUsers:\n",
    "            if user_id==other: continue \n",
    "            rating_num += self.sim[user_id][other] * float(movie_users[movie_users['user_id']==other]['rating'])\n",
    "            rating_den += self.sim[user_id][other]\n",
    "        if rating_den==0: \n",
    "            if self.df.rating[self.df['movie_id']==movie_id].mean()>0:\n",
    "                # return the mean movie rating if there is no similar for the computation\n",
    "                return self.df.rating[self.df['movie_id']==movie_id].mean()\n",
    "            else:\n",
    "                # else return mean user rating \n",
    "                return self.df.rating[self.df['user_id']==user_id].mean()\n",
    "        return rating_num/rating_den\n",
    "\n"
   ]
  },
  {
   "cell_type": "markdown",
   "metadata": {},
   "source": [
    "### Let's create a small dataset in order to reduce the computation cost and speedup the calculus in the class"
   ]
  },
  {
   "cell_type": "code",
   "execution_count": 19,
   "metadata": {
    "collapsed": false
   },
   "outputs": [
    {
     "name": "stdout",
     "output_type": "stream",
     "text": [
      "(10960, 8)\n",
      "(8727, 8)\n",
      "(2233, 8)\n",
      "Usuaris: 99\n",
      "Films: 1232\n"
     ]
    }
   ],
   "source": [
    "dataSmall = data[data['user_id']<100] # get only data from 100 users\n",
    "print dataSmall.shape\n",
    "\n",
    "dataSmall.loc[:,'for_testing'] = False\n",
    "grouped = dataSmall.groupby('user_id', group_keys=False).apply(assign_to_set)\n",
    "dataSmall_train = dataSmall[grouped.for_testing == False]\n",
    "dataSmall_test = dataSmall[grouped.for_testing == True]\n",
    "\n",
    "print dataSmall_train.shape\n",
    "print dataSmall_test.shape\n",
    "\n",
    "print 'Usuaris:', dataSmall.user_id.nunique()\n",
    "print 'Films:',dataSmall.movie_id.nunique()"
   ]
  },
  {
   "cell_type": "code",
   "execution_count": 20,
   "metadata": {
    "collapsed": false
   },
   "outputs": [
    {
     "data": {
      "text/plain": [
       "3.8671952738801547"
      ]
     },
     "execution_count": 20,
     "metadata": {},
     "output_type": "execute_result"
    }
   ],
   "source": [
    "reco = CollaborativeFiltering(dataSmall_train)\n",
    "reco.learn()\n",
    "reco.estimate(user_id=2,movie_id=1)"
   ]
  },
  {
   "cell_type": "code",
   "execution_count": 21,
   "metadata": {
    "collapsed": false
   },
   "outputs": [],
   "source": [
    "def evaluate(estimate_f,data_train,data_test):\n",
    "    \"\"\" RMSE-based predictive performance evaluation with pandas. \"\"\"\n",
    "    ids_to_estimate = zip(data_test.user_id, data_test.movie_id)\n",
    "    estimated = np.array([estimate_f(u,i) if u in data_train.user_id else 3 for (u,i) in ids_to_estimate ])\n",
    "    real = data_test.rating.values\n",
    "    return compute_rmse(estimated, real)"
   ]
  },
  {
   "cell_type": "code",
   "execution_count": 22,
   "metadata": {
    "collapsed": false
   },
   "outputs": [
    {
     "name": "stdout",
     "output_type": "stream",
     "text": [
      "RMSE for Collaborative Recomender: 1.27213760222\n"
     ]
    }
   ],
   "source": [
    "print 'RMSE for Collaborative Recomender: %s' % evaluate(reco.estimate,dataSmall_train,dataSmall_test)"
   ]
  },
  {
   "cell_type": "markdown",
   "metadata": {},
   "source": [
    "<div class  = \"alert alert-success\">**EXERCISE 1**<p>\n",
    "Modify the Recomender System using as a prediction function the following equation:\n",
    "$$pred(a,p) = \\bar{r_a} + \\frac{\\sum_{b \\in N}{sim(a,b)*(r_{b,p}-\\bar{r_b})}}{\\sum_{b \\in N}{sim(a,b)}}$$\n",
    "\n",
    "</div>"
   ]
  },
  {
   "cell_type": "code",
   "execution_count": 23,
   "metadata": {
    "collapsed": false
   },
   "outputs": [],
   "source": [
    "class CollaborativeFiltering2:\n",
    "    \"\"\" Collaborative filtering using a custom sim(u,u'). \"\"\"\n",
    "    \n",
    "    def __init__(self,DataFrame, similarity=SimPearson):\n",
    "        \"\"\" Constructor \"\"\"\n",
    "\n",
    "\n",
    "    def learn(self):\n",
    "        \"\"\" Prepare data structures for estimation. Similarity matrix for users \"\"\"\n",
    "                \n",
    "    def estimate(self, user_id, movie_id):\n",
    "        return 0\n"
   ]
  },
  {
   "cell_type": "code",
   "execution_count": 24,
   "metadata": {
    "collapsed": false
   },
   "outputs": [
    {
     "data": {
      "text/plain": [
       "0"
      ]
     },
     "execution_count": 24,
     "metadata": {},
     "output_type": "execute_result"
    }
   ],
   "source": [
    "reco2 = CollaborativeFiltering2(dataSmall_train)\n",
    "reco2.learn()\n",
    "reco2.estimate(user_id=2,movie_id=1)"
   ]
  },
  {
   "cell_type": "code",
   "execution_count": 25,
   "metadata": {
    "collapsed": false
   },
   "outputs": [
    {
     "name": "stdout",
     "output_type": "stream",
     "text": [
      "RMSE for Collaborative Recomender: 1.83707160026\n"
     ]
    }
   ],
   "source": [
    "print 'RMSE for Collaborative Recomender: %s' % evaluate(reco2.estimate,dataSmall_train,dataSmall_test)"
   ]
  },
  {
   "cell_type": "markdown",
   "metadata": {},
   "source": [
    "<div class=\"alert alert-success\">\n",
    "**EXERCISE 2:**<br>\n",
    "Modify the recomender system from the previous exercice, with one that in order to estimate the score of a movie B for the user A only uses the subset of the N most similar users to user A. Define N as a parameter of the Recoomender.\n",
    "</div>"
   ]
  },
  {
   "cell_type": "code",
   "execution_count": 26,
   "metadata": {
    "collapsed": false
   },
   "outputs": [],
   "source": [
    "class CollaborativeFiltering3:\n",
    "    \"\"\" Collaborative filtering using a custom sim(u,u'). \"\"\"\n",
    "    \n",
    "    def __init__(self,DataFrame, similarity=SimPearson,min_common_items=10,max_sim_users=10):\n",
    "        \"\"\" Constructor \"\"\"\n",
    "        \n",
    "    def learn(self):\n",
    "        \"\"\" Prepare data structures for estimation. Similarity matrix for users \"\"\"\n",
    "                         \n",
    "    def estimate(self, user_id, movie_id):\n",
    "        return 0\n",
    "\n",
    "\n",
    "        "
   ]
  },
  {
   "cell_type": "code",
   "execution_count": 27,
   "metadata": {
    "collapsed": false
   },
   "outputs": [
    {
     "data": {
      "text/plain": [
       "0"
      ]
     },
     "execution_count": 27,
     "metadata": {},
     "output_type": "execute_result"
    }
   ],
   "source": [
    "reco3 = CollaborativeFiltering3(dataSmall_train,similarity=SimPearson,min_common_items=1,max_sim_users=10)\n",
    "reco3.learn()\n",
    "reco3.estimate(user_id=2,movie_id=1)"
   ]
  },
  {
   "cell_type": "code",
   "execution_count": 28,
   "metadata": {
    "collapsed": false
   },
   "outputs": [
    {
     "name": "stdout",
     "output_type": "stream",
     "text": [
      "RMSE for Collaborative Recomender: 1.83707160026\n"
     ]
    }
   ],
   "source": [
    "print 'RMSE for Collaborative Recomender: %s' % evaluate(reco3.estimate,dataSmall_train,dataSmall_test)"
   ]
  },
  {
   "cell_type": "markdown",
   "metadata": {},
   "source": [
    "<div class  = \"alert alert-success\">**EXERCISE 4**<p>\n",
    "Modify the similarity function with the following:\n",
    "$$new\\_sim(a,b) = sim(a,b) * \\frac{min(50,|P_{ab}|)}{50} $$\n",
    "where $|P_{ab}|$ is the number of common items with user $a$ and user $b$\n",
    "</div>"
   ]
  },
  {
   "cell_type": "code",
   "execution_count": 29,
   "metadata": {
    "collapsed": false
   },
   "outputs": [
    {
     "data": {
      "text/plain": [
       "0"
      ]
     },
     "execution_count": 29,
     "metadata": {},
     "output_type": "execute_result"
    }
   ],
   "source": [
    "# Returns a pearsonCorrealation-based similarity score for person1 and person2\n",
    "def SimPearsonCorrected(DataFrame,User1,User2,min_common_items=1,pref_common_items=50):\n",
    "    return 0\n",
    "\n",
    "reco4 = CollaborativeFiltering3(dataSmall_train,similarity=SimPearsonCorrected,min_common_items=1,max_sim_users=10)\n",
    "reco4.learn()\n",
    "reco4.estimate(user_id=2,movie_id=1)"
   ]
  },
  {
   "cell_type": "code",
   "execution_count": 30,
   "metadata": {
    "collapsed": false
   },
   "outputs": [
    {
     "name": "stdout",
     "output_type": "stream",
     "text": [
      "RMSE for Collaborative Recomender: 1.83707160026\n"
     ]
    }
   ],
   "source": [
    "print 'RMSE for Collaborative Recomender: %s' % evaluate(reco4.estimate,dataSmall_train,dataSmall_test)"
   ]
  },
  {
   "cell_type": "code",
   "execution_count": null,
   "metadata": {
    "collapsed": true
   },
   "outputs": [],
   "source": []
  }
 ],
 "metadata": {
  "anaconda-cloud": {},
  "kernelspec": {
   "display_name": "Python [conda root]",
   "language": "python",
   "name": "conda-root-py"
  },
  "language_info": {
   "codemirror_mode": {
    "name": "ipython",
    "version": 2
   },
   "file_extension": ".py",
   "mimetype": "text/x-python",
   "name": "python",
   "nbconvert_exporter": "python",
   "pygments_lexer": "ipython2",
   "version": "2.7.12"
  }
 },
 "nbformat": 4,
 "nbformat_minor": 0
}
